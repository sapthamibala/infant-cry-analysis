{
 "cells": [
  {
   "cell_type": "code",
   "execution_count": 1,
   "id": "f913d183",
   "metadata": {
    "_kg_hide-output": true,
    "execution": {
     "iopub.execute_input": "2024-05-04T03:33:33.196329Z",
     "iopub.status.busy": "2024-05-04T03:33:33.195926Z",
     "iopub.status.idle": "2024-05-04T03:33:48.409853Z",
     "shell.execute_reply": "2024-05-04T03:33:48.408567Z"
    },
    "id": "CsqXfTpFKKb0",
    "outputId": "75186a06-ec11-4f86-8ac1-3745ebe9eb18",
    "papermill": {
     "duration": 15.223213,
     "end_time": "2024-05-04T03:33:48.412416",
     "exception": false,
     "start_time": "2024-05-04T03:33:33.189203",
     "status": "completed"
    },
    "tags": []
   },
   "outputs": [
    {
     "name": "stdout",
     "output_type": "stream",
     "text": [
      "Collecting librosa==0.9.2\r\n",
      "  Obtaining dependency information for librosa==0.9.2 from https://files.pythonhosted.org/packages/e4/1c/23ef2fd02913d65d43dc7516fc829af709314a66c6f0bdc2e361fdcecc2d/librosa-0.9.2-py3-none-any.whl.metadata\r\n",
      "  Downloading librosa-0.9.2-py3-none-any.whl.metadata (8.2 kB)\r\n",
      "Requirement already satisfied: audioread>=2.1.9 in /opt/conda/lib/python3.10/site-packages (from librosa==0.9.2) (3.0.1)\r\n",
      "Requirement already satisfied: numpy>=1.17.0 in /opt/conda/lib/python3.10/site-packages (from librosa==0.9.2) (1.24.3)\r\n",
      "Requirement already satisfied: scipy>=1.2.0 in /opt/conda/lib/python3.10/site-packages (from librosa==0.9.2) (1.11.4)\r\n",
      "Requirement already satisfied: scikit-learn>=0.19.1 in /opt/conda/lib/python3.10/site-packages (from librosa==0.9.2) (1.2.2)\r\n",
      "Requirement already satisfied: joblib>=0.14 in /opt/conda/lib/python3.10/site-packages (from librosa==0.9.2) (1.3.2)\r\n",
      "Requirement already satisfied: decorator>=4.0.10 in /opt/conda/lib/python3.10/site-packages (from librosa==0.9.2) (5.1.1)\r\n",
      "Collecting resampy>=0.2.2 (from librosa==0.9.2)\r\n",
      "  Obtaining dependency information for resampy>=0.2.2 from https://files.pythonhosted.org/packages/4d/b9/3b00ac340a1aab3389ebcc52c779914a44aadf7b0cb7a3bf053195735607/resampy-0.4.3-py3-none-any.whl.metadata\r\n",
      "  Downloading resampy-0.4.3-py3-none-any.whl.metadata (3.0 kB)\r\n",
      "Requirement already satisfied: numba>=0.45.1 in /opt/conda/lib/python3.10/site-packages (from librosa==0.9.2) (0.57.1)\r\n",
      "Requirement already satisfied: soundfile>=0.10.2 in /opt/conda/lib/python3.10/site-packages (from librosa==0.9.2) (0.12.1)\r\n",
      "Requirement already satisfied: pooch>=1.0 in /opt/conda/lib/python3.10/site-packages (from librosa==0.9.2) (1.8.0)\r\n",
      "Requirement already satisfied: packaging>=20.0 in /opt/conda/lib/python3.10/site-packages (from librosa==0.9.2) (21.3)\r\n",
      "Requirement already satisfied: llvmlite<0.41,>=0.40.0dev0 in /opt/conda/lib/python3.10/site-packages (from numba>=0.45.1->librosa==0.9.2) (0.40.1)\r\n",
      "Requirement already satisfied: pyparsing!=3.0.5,>=2.0.2 in /opt/conda/lib/python3.10/site-packages (from packaging>=20.0->librosa==0.9.2) (3.0.9)\r\n",
      "Requirement already satisfied: platformdirs>=2.5.0 in /opt/conda/lib/python3.10/site-packages (from pooch>=1.0->librosa==0.9.2) (4.1.0)\r\n",
      "Requirement already satisfied: requests>=2.19.0 in /opt/conda/lib/python3.10/site-packages (from pooch>=1.0->librosa==0.9.2) (2.31.0)\r\n",
      "Requirement already satisfied: threadpoolctl>=2.0.0 in /opt/conda/lib/python3.10/site-packages (from scikit-learn>=0.19.1->librosa==0.9.2) (3.2.0)\r\n",
      "Requirement already satisfied: cffi>=1.0 in /opt/conda/lib/python3.10/site-packages (from soundfile>=0.10.2->librosa==0.9.2) (1.15.1)\r\n",
      "Requirement already satisfied: pycparser in /opt/conda/lib/python3.10/site-packages (from cffi>=1.0->soundfile>=0.10.2->librosa==0.9.2) (2.21)\r\n",
      "Requirement already satisfied: charset-normalizer<4,>=2 in /opt/conda/lib/python3.10/site-packages (from requests>=2.19.0->pooch>=1.0->librosa==0.9.2) (3.2.0)\r\n",
      "Requirement already satisfied: idna<4,>=2.5 in /opt/conda/lib/python3.10/site-packages (from requests>=2.19.0->pooch>=1.0->librosa==0.9.2) (3.4)\r\n",
      "Requirement already satisfied: urllib3<3,>=1.21.1 in /opt/conda/lib/python3.10/site-packages (from requests>=2.19.0->pooch>=1.0->librosa==0.9.2) (1.26.15)\r\n",
      "Requirement already satisfied: certifi>=2017.4.17 in /opt/conda/lib/python3.10/site-packages (from requests>=2.19.0->pooch>=1.0->librosa==0.9.2) (2023.11.17)\r\n",
      "Downloading librosa-0.9.2-py3-none-any.whl (214 kB)\r\n",
      "\u001b[2K   \u001b[90m━━━━━━━━━━━━━━━━━━━━━━━━━━━━━━━━━━━━━━━━\u001b[0m \u001b[32m214.3/214.3 kB\u001b[0m \u001b[31m5.2 MB/s\u001b[0m eta \u001b[36m0:00:00\u001b[0m\r\n",
      "\u001b[?25hDownloading resampy-0.4.3-py3-none-any.whl (3.1 MB)\r\n",
      "\u001b[2K   \u001b[90m━━━━━━━━━━━━━━━━━━━━━━━━━━━━━━━━━━━━━━━━\u001b[0m \u001b[32m3.1/3.1 MB\u001b[0m \u001b[31m51.1 MB/s\u001b[0m eta \u001b[36m0:00:00\u001b[0m\r\n",
      "\u001b[?25hInstalling collected packages: resampy, librosa\r\n",
      "  Attempting uninstall: librosa\r\n",
      "    Found existing installation: librosa 0.10.1\r\n",
      "    Uninstalling librosa-0.10.1:\r\n",
      "      Successfully uninstalled librosa-0.10.1\r\n",
      "Successfully installed librosa-0.9.2 resampy-0.4.3\r\n"
     ]
    }
   ],
   "source": [
    "!pip install librosa==0.9.2"
   ]
  },
  {
   "cell_type": "code",
   "execution_count": 2,
   "id": "138bae47",
   "metadata": {
    "execution": {
     "iopub.execute_input": "2024-05-04T03:33:48.426942Z",
     "iopub.status.busy": "2024-05-04T03:33:48.426570Z",
     "iopub.status.idle": "2024-05-04T03:34:03.243585Z",
     "shell.execute_reply": "2024-05-04T03:34:03.242688Z"
    },
    "id": "Pti8RhxqMjTe",
    "papermill": {
     "duration": 14.827215,
     "end_time": "2024-05-04T03:34:03.246248",
     "exception": false,
     "start_time": "2024-05-04T03:33:48.419033",
     "status": "completed"
    },
    "tags": []
   },
   "outputs": [
    {
     "name": "stderr",
     "output_type": "stream",
     "text": [
      "/opt/conda/lib/python3.10/site-packages/scipy/__init__.py:146: UserWarning: A NumPy version >=1.16.5 and <1.23.0 is required for this version of SciPy (detected version 1.24.3\n",
      "  warnings.warn(f\"A NumPy version >={np_minversion} and <{np_maxversion}\"\n"
     ]
    }
   ],
   "source": [
    "import numpy as np\n",
    "import pandas as pd\n",
    "import os\n",
    "import librosa\n",
    "import librosa.display\n",
    "import matplotlib.pyplot as plt\n",
    "from sklearn.model_selection import train_test_split\n",
    "from sklearn.preprocessing import normalize\n",
    "import warnings\n",
    "warnings.filterwarnings('ignore')\n",
    "from sklearn.model_selection import train_test_split\n",
    "import tensorflow\n",
    "from tensorflow.keras.layers import LSTM, Dense"
   ]
  },
  {
   "cell_type": "code",
   "execution_count": 3,
   "id": "cd8a95aa",
   "metadata": {
    "execution": {
     "iopub.execute_input": "2024-05-04T03:34:03.261381Z",
     "iopub.status.busy": "2024-05-04T03:34:03.260743Z",
     "iopub.status.idle": "2024-05-04T03:34:03.270123Z",
     "shell.execute_reply": "2024-05-04T03:34:03.269116Z"
    },
    "id": "Vb4grOJHnfgu",
    "papermill": {
     "duration": 0.019304,
     "end_time": "2024-05-04T03:34:03.272500",
     "exception": false,
     "start_time": "2024-05-04T03:34:03.253196",
     "status": "completed"
    },
    "tags": []
   },
   "outputs": [],
   "source": [
    "def create_spectrogram(audio_file, image_file):\n",
    "    fig = plt.figure()\n",
    "    ax = fig.add_subplot(1, 1, 1)\n",
    "    fig.subplots_adjust(left=0, right=1, bottom=0, top=1)\n",
    "\n",
    "    y, sr = librosa.load(audio_file)\n",
    "    ms = librosa.feature.melspectrogram(y, sr=sr)\n",
    "    log_ms = librosa.power_to_db(ms, ref=np.max)\n",
    "    librosa.display.specshow(log_ms, sr=sr)\n",
    "\n",
    "    fig.savefig(image_file)\n",
    "    plt.close(fig)\n",
    "\n",
    "def create_pngs_from_wavs(input_path, output_path):\n",
    "    if not os.path.exists(output_path):\n",
    "        os.makedirs(output_path)\n",
    "\n",
    "    dir = os.listdir(input_path)\n",
    "\n",
    "    for i, file in enumerate(dir):\n",
    "        input_file = os.path.join(input_path, file)\n",
    "        output_file = os.path.join(output_path, file.replace('.wav', '.png'))\n",
    "        create_spectrogram(input_file, output_file)"
   ]
  },
  {
   "cell_type": "code",
   "execution_count": 4,
   "id": "859476bd",
   "metadata": {
    "execution": {
     "iopub.execute_input": "2024-05-04T03:34:03.286159Z",
     "iopub.status.busy": "2024-05-04T03:34:03.285856Z",
     "iopub.status.idle": "2024-05-04T03:36:30.129403Z",
     "shell.execute_reply": "2024-05-04T03:36:30.128211Z"
    },
    "id": "99ri3l3-noK7",
    "papermill": {
     "duration": 146.853653,
     "end_time": "2024-05-04T03:36:30.132321",
     "exception": false,
     "start_time": "2024-05-04T03:34:03.278668",
     "status": "completed"
    },
    "tags": []
   },
   "outputs": [],
   "source": [
    "create_pngs_from_wavs('/kaggle/input/infant-cry-audio-corpus/donateacry_corpus/belly_pain', '/kaggle/working/belly_pain')\n",
    "create_pngs_from_wavs('/kaggle/input/infant-cry-audio-corpus/donateacry_corpus/burping', '/kaggle/working/burping')\n",
    "create_pngs_from_wavs('/kaggle/input/infant-cry-audio-corpus/donateacry_corpus/discomfort', '/kaggle/working/discomfort')\n",
    "create_pngs_from_wavs('/kaggle/input/infant-cry-audio-corpus/donateacry_corpus/hungry', '/kaggle/working/hungry')\n",
    "create_pngs_from_wavs('/kaggle/input/infant-cry-audio-corpus/donateacry_corpus/tired', '/kaggle/working/tired')"
   ]
  },
  {
   "cell_type": "code",
   "execution_count": 5,
   "id": "e0ae0d1a",
   "metadata": {
    "execution": {
     "iopub.execute_input": "2024-05-04T03:36:30.147594Z",
     "iopub.status.busy": "2024-05-04T03:36:30.147184Z",
     "iopub.status.idle": "2024-05-04T03:36:30.154108Z",
     "shell.execute_reply": "2024-05-04T03:36:30.153021Z"
    },
    "id": "e6VCZhdinzm4",
    "papermill": {
     "duration": 0.017125,
     "end_time": "2024-05-04T03:36:30.156423",
     "exception": false,
     "start_time": "2024-05-04T03:36:30.139298",
     "status": "completed"
    },
    "tags": []
   },
   "outputs": [],
   "source": [
    "x = []\n",
    "y = []\n",
    "\n",
    "from keras.preprocessing import image\n",
    "\n",
    "def load_images_from_path(path, label):\n",
    "    images = []\n",
    "    labels = []\n",
    "\n",
    "    for file in os.listdir(path):\n",
    "        images.append(image.img_to_array(image.load_img(os.path.join(path, file), target_size=(224, 224, 3))))\n",
    "        labels.append((label))\n",
    "\n",
    "    return images, labels"
   ]
  },
  {
   "cell_type": "code",
   "execution_count": 6,
   "id": "fa13c7fb",
   "metadata": {
    "execution": {
     "iopub.execute_input": "2024-05-04T03:36:30.170711Z",
     "iopub.status.busy": "2024-05-04T03:36:30.170362Z",
     "iopub.status.idle": "2024-05-04T03:36:30.205804Z",
     "shell.execute_reply": "2024-05-04T03:36:30.204725Z"
    },
    "id": "IqABUS4SubDU",
    "outputId": "03a5bcf4-4140-4d80-9ffd-447eee31920c",
    "papermill": {
     "duration": 0.045086,
     "end_time": "2024-05-04T03:36:30.208048",
     "exception": false,
     "start_time": "2024-05-04T03:36:30.162962",
     "status": "completed"
    },
    "tags": []
   },
   "outputs": [
    {
     "name": "stdout",
     "output_type": "stream",
     "text": [
      "Directory '/kaggle/working/belly_pain_train/' created successfully.\n",
      "Directory '/kaggle/working/burping_train/' created successfully.\n",
      "Directory '/kaggle/working/discomfort_train/' created successfully.\n",
      "Directory '/kaggle/working/hungry_train/' created successfully.\n",
      "Directory '/kaggle/working/tired_train/' created successfully.\n"
     ]
    }
   ],
   "source": [
    "import glob\n",
    "import shutil\n",
    "\n",
    "def move_files(source_pattern, destination_path):\n",
    "    if not os.path.exists(destination_path):\n",
    "        os.makedirs(destination_path)\n",
    "        print(f\"Directory '{destination_path}' created successfully.\")\n",
    "    else:\n",
    "        print(f\"Directory '{destination_path}' already exists.\")\n",
    "\n",
    "    files_to_move = glob.glob(source_pattern)\n",
    "    for file_path in files_to_move[:-1]:\n",
    "        shutil.move(file_path, destination_path)\n",
    "\n",
    "# Define your directories and source patterns\n",
    "directories = {\n",
    "    '/kaggle/working/belly_pain_train/': '/kaggle/working/belly_pain/*.png',\n",
    "    '/kaggle/working/burping_train/': '/kaggle/working/burping/*.png',\n",
    "    '/kaggle/working/discomfort_train/': '/kaggle/working/discomfort/*.png',\n",
    "    '/kaggle/working/hungry_train/': '/kaggle/working/hungry/*.png',\n",
    "    '/kaggle/working/tired_train/': '/kaggle/working/tired/*.png'\n",
    "}\n",
    "\n",
    "# Loop through the directories and move the files\n",
    "for directory, source_pattern in directories.items():\n",
    "    move_files(source_pattern, directory)"
   ]
  },
  {
   "cell_type": "code",
   "execution_count": 7,
   "id": "f22a4ce3",
   "metadata": {
    "execution": {
     "iopub.execute_input": "2024-05-04T03:36:30.222583Z",
     "iopub.status.busy": "2024-05-04T03:36:30.222242Z",
     "iopub.status.idle": "2024-05-04T03:36:34.397354Z",
     "shell.execute_reply": "2024-05-04T03:36:34.396490Z"
    },
    "id": "j3lWFbHdn2ca",
    "papermill": {
     "duration": 4.18513,
     "end_time": "2024-05-04T03:36:34.399909",
     "exception": false,
     "start_time": "2024-05-04T03:36:30.214779",
     "status": "completed"
    },
    "tags": []
   },
   "outputs": [],
   "source": [
    "images, labels = load_images_from_path('/kaggle/working/belly_pain_train', 0)\n",
    "\n",
    "x += images\n",
    "y += labels\n",
    "\n",
    "images, labels = load_images_from_path('/kaggle/working/burping_train', 1)\n",
    "\n",
    "x += images\n",
    "y += labels\n",
    "\n",
    "images, labels = load_images_from_path('/kaggle/working/discomfort_train', 2)\n",
    "\n",
    "x += images\n",
    "y += labels\n",
    "\n",
    "images, labels = load_images_from_path('/kaggle/working/hungry_train', 3)\n",
    "\n",
    "x += images\n",
    "y += labels\n",
    "\n",
    "images, labels = load_images_from_path('/kaggle/working/tired_train', 4)\n",
    "\n",
    "x += images\n",
    "y += labels"
   ]
  },
  {
   "cell_type": "code",
   "execution_count": 8,
   "id": "96b1aa75",
   "metadata": {
    "execution": {
     "iopub.execute_input": "2024-05-04T03:36:34.414701Z",
     "iopub.status.busy": "2024-05-04T03:36:34.413979Z",
     "iopub.status.idle": "2024-05-04T03:36:34.530395Z",
     "shell.execute_reply": "2024-05-04T03:36:34.529380Z"
    },
    "id": "wtkszY8-n3-I",
    "papermill": {
     "duration": 0.126756,
     "end_time": "2024-05-04T03:36:34.533185",
     "exception": false,
     "start_time": "2024-05-04T03:36:34.406429",
     "status": "completed"
    },
    "tags": []
   },
   "outputs": [],
   "source": [
    "from tensorflow.keras.utils import to_categorical\n",
    "from sklearn.model_selection import train_test_split\n",
    "\n",
    "x_train, x_test, y_train, y_test = train_test_split(x, y, test_size=0.2, random_state=0)\n",
    "\n",
    "x_train_norm = np.array(x_train) / 255\n",
    "x_test_norm = np.array(x_test) / 255\n",
    "\n",
    "y_train_encoded = to_categorical(y_train)\n",
    "y_test_encoded = to_categorical(y_test)"
   ]
  },
  {
   "cell_type": "code",
   "execution_count": 9,
   "id": "a1a19716",
   "metadata": {
    "execution": {
     "iopub.execute_input": "2024-05-04T03:36:34.548214Z",
     "iopub.status.busy": "2024-05-04T03:36:34.547367Z",
     "iopub.status.idle": "2024-05-04T03:36:35.802018Z",
     "shell.execute_reply": "2024-05-04T03:36:35.800855Z"
    },
    "id": "oa1b9vgEn6kG",
    "outputId": "9e90d311-00b1-420e-ca68-5998e7dea087",
    "papermill": {
     "duration": 1.271932,
     "end_time": "2024-05-04T03:36:35.812248",
     "exception": false,
     "start_time": "2024-05-04T03:36:34.540316",
     "status": "completed"
    },
    "tags": []
   },
   "outputs": [
    {
     "name": "stdout",
     "output_type": "stream",
     "text": [
      "Model: \"sequential\"\n",
      "_________________________________________________________________\n",
      " Layer (type)                Output Shape              Param #   \n",
      "=================================================================\n",
      " resizing (Resizing)         (None, 64, 64, 3)         0         \n",
      "                                                                 \n",
      " normalization (Normalizati  (None, 64, 64, 3)         7         \n",
      " on)                                                             \n",
      "                                                                 \n",
      " conv2d (Conv2D)             (None, 62, 62, 64)        1792      \n",
      "                                                                 \n",
      " conv2d_1 (Conv2D)           (None, 60, 60, 128)       73856     \n",
      "                                                                 \n",
      " max_pooling2d (MaxPooling2  (None, 30, 30, 128)       0         \n",
      " D)                                                              \n",
      "                                                                 \n",
      " dropout (Dropout)           (None, 30, 30, 128)       0         \n",
      "                                                                 \n",
      " flatten (Flatten)           (None, 115200)            0         \n",
      "                                                                 \n",
      " random_fourier_features (R  (None, 5)                 576006    \n",
      " andomFourierFeatures)                                           \n",
      "                                                                 \n",
      "=================================================================\n",
      "Total params: 651661 (2.49 MB)\n",
      "Trainable params: 75648 (295.50 KB)\n",
      "Non-trainable params: 576013 (2.20 MB)\n",
      "_________________________________________________________________\n"
     ]
    }
   ],
   "source": [
    "from tensorflow.keras.models import Sequential\n",
    "from tensorflow.keras.layers import Conv2D, MaxPooling2D,Flatten, Dense, Dropout,Normalization,Resizing,InputLayer\n",
    "from tensorflow.keras.layers.experimental import RandomFourierFeatures\n",
    "from tensorflow.keras.optimizers import Adam,Adafactor,AdamW,Lion\n",
    "from tensorflow.keras.optimizers.experimental import Adadelta,Adagrad,Adamax,RMSprop,SGD,Nadam,Ftrl\n",
    "\n",
    "model = Sequential()\n",
    "model.add(InputLayer(input_shape=(224, 224, 3)))\n",
    "model.add(Resizing(64,64))\n",
    "model.add(Normalization())\n",
    "model.add(Conv2D(64, 3, strides=1, activation='relu'))\n",
    "model.add(Conv2D(128, 3, strides=1, activation='relu'))\n",
    "model.add(MaxPooling2D(2, 2))\n",
    "model.add(Dropout(0.2))\n",
    "model.add(Flatten())\n",
    "model.add(RandomFourierFeatures(5))\n",
    "model.compile(optimizer=AdamW(lr=0.01), loss='categorical_crossentropy', metrics=['accuracy'])\n",
    "model.summary()"
   ]
  },
  {
   "cell_type": "code",
   "execution_count": 10,
   "id": "3f6bc5e9",
   "metadata": {
    "execution": {
     "iopub.execute_input": "2024-05-04T03:36:35.830637Z",
     "iopub.status.busy": "2024-05-04T03:36:35.830253Z",
     "iopub.status.idle": "2024-05-04T03:37:18.276459Z",
     "shell.execute_reply": "2024-05-04T03:37:18.275543Z"
    },
    "id": "AB8UY1DgseoL",
    "outputId": "c1694b58-9705-4b2e-9618-745560f9c867",
    "papermill": {
     "duration": 42.458385,
     "end_time": "2024-05-04T03:37:18.278968",
     "exception": false,
     "start_time": "2024-05-04T03:36:35.820583",
     "status": "completed"
    },
    "tags": []
   },
   "outputs": [
    {
     "name": "stdout",
     "output_type": "stream",
     "text": [
      "Epoch 1/50\n"
     ]
    },
    {
     "name": "stderr",
     "output_type": "stream",
     "text": [
      "2024-05-04 03:36:37.240148: E tensorflow/core/grappler/optimizers/meta_optimizer.cc:954] layout failed: INVALID_ARGUMENT: Size of values 0 does not match size of permutation 4 @ fanin shape insequential/dropout/dropout/SelectV2-2-TransposeNHWCToNCHW-LayoutOptimizer\n"
     ]
    },
    {
     "name": "stdout",
     "output_type": "stream",
     "text": [
      "12/12 [==============================] - 5s 96ms/step - loss: 1.4463 - accuracy: 0.5845 - val_loss: 1.1083 - val_accuracy: 0.8571 - lr: 0.0010\n",
      "Epoch 2/50\n",
      "12/12 [==============================] - 0s 32ms/step - loss: 1.3997 - accuracy: 0.8338 - val_loss: 1.6421 - val_accuracy: 0.8571 - lr: 0.0010\n",
      "Epoch 3/50\n",
      "12/12 [==============================] - 0s 33ms/step - loss: 5.3025 - accuracy: 0.8338 - val_loss: 9.7834 - val_accuracy: 0.8571 - lr: 0.0010\n",
      "Epoch 4/50\n",
      "12/12 [==============================] - 0s 31ms/step - loss: 10.5485 - accuracy: 0.8172 - val_loss: 12.8239 - val_accuracy: 0.8571 - lr: 0.0010\n",
      "Epoch 5/50\n",
      "12/12 [==============================] - 0s 31ms/step - loss: 10.6308 - accuracy: 0.8144 - val_loss: 13.1752 - val_accuracy: 0.8571 - lr: 0.0010\n",
      "Epoch 6/50\n",
      "12/12 [==============================] - 0s 32ms/step - loss: 8.3933 - accuracy: 0.8338 - val_loss: 7.4072 - val_accuracy: 0.8571 - lr: 0.0010\n",
      "Epoch 7/50\n",
      "12/12 [==============================] - 0s 32ms/step - loss: 9.8472 - accuracy: 0.8366 - val_loss: 13.1571 - val_accuracy: 0.8571 - lr: 0.0010\n",
      "Epoch 8/50\n",
      "12/12 [==============================] - 0s 32ms/step - loss: 12.3774 - accuracy: 0.8227 - val_loss: 14.0352 - val_accuracy: 0.8571 - lr: 0.0010\n",
      "Epoch 9/50\n",
      "12/12 [==============================] - 0s 30ms/step - loss: 11.8418 - accuracy: 0.8227 - val_loss: 13.6723 - val_accuracy: 0.8571 - lr: 0.0010\n",
      "Epoch 10/50\n",
      "12/12 [==============================] - 0s 31ms/step - loss: 12.3848 - accuracy: 0.8255 - val_loss: 13.6688 - val_accuracy: 0.8571 - lr: 0.0010\n",
      "Epoch 11/50\n",
      "12/12 [==============================] - 0s 32ms/step - loss: 11.9028 - accuracy: 0.8144 - val_loss: 14.2174 - val_accuracy: 0.8571 - lr: 0.0010\n",
      "Epoch 12/50\n",
      "12/12 [==============================] - 0s 30ms/step - loss: 12.9240 - accuracy: 0.8283 - val_loss: 13.8058 - val_accuracy: 0.8571 - lr: 0.0010\n",
      "Epoch 13/50\n",
      "12/12 [==============================] - 0s 30ms/step - loss: 12.6569 - accuracy: 0.8116 - val_loss: 14.2323 - val_accuracy: 0.8571 - lr: 0.0010\n",
      "Epoch 14/50\n",
      "12/12 [==============================] - 0s 30ms/step - loss: 12.3051 - accuracy: 0.7922 - val_loss: 13.8482 - val_accuracy: 0.8571 - lr: 0.0010\n",
      "Epoch 15/50\n",
      "12/12 [==============================] - 0s 31ms/step - loss: 10.0794 - accuracy: 0.4044 - val_loss: 11.2637 - val_accuracy: 0.0879 - lr: 0.0010\n",
      "Epoch 16/50\n",
      "12/12 [==============================] - 0s 32ms/step - loss: 7.5413 - accuracy: 0.1607 - val_loss: 4.4773 - val_accuracy: 0.3187 - lr: 0.0010\n",
      "Epoch 17/50\n",
      "12/12 [==============================] - 0s 30ms/step - loss: 6.2954 - accuracy: 0.3823 - val_loss: 8.3320 - val_accuracy: 0.8242 - lr: 0.0010\n",
      "Epoch 18/50\n",
      "12/12 [==============================] - 0s 32ms/step - loss: 9.7049 - accuracy: 0.6898 - val_loss: 13.8242 - val_accuracy: 0.8462 - lr: 0.0010\n",
      "Epoch 19/50\n",
      "12/12 [==============================] - 0s 31ms/step - loss: 8.0346 - accuracy: 0.7285 - val_loss: 1.4759 - val_accuracy: 0.8352 - lr: 0.0010\n",
      "Epoch 20/50\n",
      "12/12 [==============================] - 0s 31ms/step - loss: 3.8062 - accuracy: 0.5152 - val_loss: 0.9646 - val_accuracy: 0.6374 - lr: 0.0010\n",
      "Epoch 21/50\n",
      "12/12 [==============================] - 0s 31ms/step - loss: 3.8295 - accuracy: 0.4709 - val_loss: 1.6212 - val_accuracy: 0.5934 - lr: 0.0010\n",
      "Epoch 22/50\n",
      "12/12 [==============================] - 0s 32ms/step - loss: 5.1509 - accuracy: 0.4571 - val_loss: 2.8424 - val_accuracy: 0.6813 - lr: 0.0010\n",
      "Epoch 23/50\n",
      "12/12 [==============================] - 0s 30ms/step - loss: 6.2477 - accuracy: 0.5402 - val_loss: 6.0261 - val_accuracy: 0.7363 - lr: 0.0010\n",
      "Epoch 24/50\n",
      "12/12 [==============================] - 0s 30ms/step - loss: 6.9575 - accuracy: 0.5512 - val_loss: 7.6196 - val_accuracy: 0.6813 - lr: 0.0010\n",
      "Epoch 25/50\n",
      "12/12 [==============================] - 0s 30ms/step - loss: 7.5726 - accuracy: 0.5180 - val_loss: 12.0471 - val_accuracy: 0.5385 - lr: 0.0010\n",
      "Epoch 26/50\n",
      "12/12 [==============================] - 0s 33ms/step - loss: 7.9697 - accuracy: 0.3934 - val_loss: 10.2329 - val_accuracy: 0.2747 - lr: 0.0010\n",
      "Epoch 27/50\n",
      "12/12 [==============================] - 0s 30ms/step - loss: 7.3515 - accuracy: 0.2715 - val_loss: 9.4922 - val_accuracy: 0.0989 - lr: 0.0010\n",
      "Epoch 28/50\n",
      "12/12 [==============================] - 0s 31ms/step - loss: 5.9218 - accuracy: 0.1274 - val_loss: 5.6259 - val_accuracy: 0.0879 - lr: 0.0010\n",
      "Epoch 29/50\n",
      "12/12 [==============================] - 0s 31ms/step - loss: 5.7530 - accuracy: 0.0914 - val_loss: 5.7760 - val_accuracy: 0.0769 - lr: 0.0010\n",
      "Epoch 30/50\n",
      "12/12 [==============================] - 0s 32ms/step - loss: 6.4563 - accuracy: 0.0859 - val_loss: 6.3622 - val_accuracy: 0.0549 - lr: 0.0010\n",
      "Epoch 31/50\n",
      "12/12 [==============================] - 0s 30ms/step - loss: 6.2881 - accuracy: 0.1247 - val_loss: 5.4720 - val_accuracy: 0.0659 - lr: 0.0010\n",
      "Epoch 32/50\n",
      "12/12 [==============================] - 0s 30ms/step - loss: 5.7269 - accuracy: 0.1274 - val_loss: 8.3305 - val_accuracy: 0.0549 - lr: 0.0010\n",
      "Epoch 33/50\n",
      "12/12 [==============================] - 0s 31ms/step - loss: 6.1978 - accuracy: 0.1496 - val_loss: 7.9506 - val_accuracy: 0.0769 - lr: 0.0010\n",
      "Epoch 34/50\n",
      "12/12 [==============================] - 0s 30ms/step - loss: 6.3992 - accuracy: 0.1219 - val_loss: 8.6992 - val_accuracy: 0.0549 - lr: 0.0010\n",
      "Epoch 35/50\n",
      "12/12 [==============================] - 0s 30ms/step - loss: 6.6263 - accuracy: 0.1302 - val_loss: 8.8824 - val_accuracy: 0.0549 - lr: 0.0010\n",
      "Epoch 36/50\n",
      "12/12 [==============================] - 0s 30ms/step - loss: 6.3412 - accuracy: 0.1413 - val_loss: 9.2144 - val_accuracy: 0.0549 - lr: 0.0010\n",
      "Epoch 37/50\n",
      "12/12 [==============================] - 0s 30ms/step - loss: 6.3439 - accuracy: 0.1607 - val_loss: 8.5309 - val_accuracy: 0.0549 - lr: 0.0010\n",
      "Epoch 38/50\n",
      "12/12 [==============================] - 0s 32ms/step - loss: 6.7283 - accuracy: 0.1524 - val_loss: 8.2946 - val_accuracy: 0.0769 - lr: 0.0010\n",
      "Epoch 39/50\n",
      "12/12 [==============================] - 0s 34ms/step - loss: 5.8758 - accuracy: 0.1607 - val_loss: 8.4500 - val_accuracy: 0.0769 - lr: 0.0010\n",
      "Epoch 40/50\n",
      "12/12 [==============================] - 0s 34ms/step - loss: 6.3864 - accuracy: 0.1524 - val_loss: 9.0423 - val_accuracy: 0.0330 - lr: 0.0010\n",
      "Epoch 41/50\n",
      "12/12 [==============================] - 0s 31ms/step - loss: 6.5528 - accuracy: 0.1413 - val_loss: 10.0082 - val_accuracy: 0.0549 - lr: 0.0010\n",
      "Epoch 42/50\n",
      "12/12 [==============================] - 0s 33ms/step - loss: 5.7951 - accuracy: 0.1357 - val_loss: 9.5544 - val_accuracy: 0.0549 - lr: 0.0010\n",
      "Epoch 43/50\n",
      "12/12 [==============================] - 0s 31ms/step - loss: 7.3984 - accuracy: 0.1524 - val_loss: 8.5214 - val_accuracy: 0.0440 - lr: 0.0010\n",
      "Epoch 44/50\n",
      "12/12 [==============================] - 0s 32ms/step - loss: 6.6038 - accuracy: 0.1524 - val_loss: 8.3356 - val_accuracy: 0.0549 - lr: 0.0010\n",
      "Epoch 45/50\n",
      "12/12 [==============================] - 0s 31ms/step - loss: 6.7191 - accuracy: 0.1191 - val_loss: 8.1181 - val_accuracy: 0.0659 - lr: 0.0010\n",
      "Epoch 46/50\n",
      "12/12 [==============================] - 0s 31ms/step - loss: 6.2350 - accuracy: 0.1524 - val_loss: 8.4467 - val_accuracy: 0.0659 - lr: 0.0010\n",
      "Epoch 47/50\n",
      "12/12 [==============================] - 0s 30ms/step - loss: 6.6725 - accuracy: 0.1468 - val_loss: 7.3529 - val_accuracy: 0.0659 - lr: 0.0010\n",
      "Epoch 48/50\n",
      "12/12 [==============================] - 0s 31ms/step - loss: 6.1617 - accuracy: 0.1551 - val_loss: 7.5790 - val_accuracy: 0.0659 - lr: 0.0010\n",
      "Epoch 49/50\n",
      "12/12 [==============================] - 0s 31ms/step - loss: 6.1196 - accuracy: 0.1579 - val_loss: 7.9740 - val_accuracy: 0.0879 - lr: 0.0010\n",
      "Epoch 50/50\n",
      "12/12 [==============================] - 0s 31ms/step - loss: 5.5954 - accuracy: 0.1191 - val_loss: 8.6956 - val_accuracy: 0.0769 - lr: 0.0010\n"
     ]
    }
   ],
   "source": [
    "from tensorflow.keras.callbacks import ReduceLROnPlateau\n",
    "reduce_lr = ReduceLROnPlateau(monitor='val_accuracy',\n",
    "                              factor=0.5,\n",
    "                              patience=2,\n",
    "                              min_lr=0.006,\n",
    "                              verbose=1)\n",
    "\n",
    "hist = model.fit(x_train_norm, y_train_encoded, validation_data=(x_test_norm, y_test_encoded), epochs=50,callbacks=[reduce_lr])"
   ]
  },
  {
   "cell_type": "code",
   "execution_count": 11,
   "id": "08c41632",
   "metadata": {
    "execution": {
     "iopub.execute_input": "2024-05-04T03:37:18.367428Z",
     "iopub.status.busy": "2024-05-04T03:37:18.366494Z",
     "iopub.status.idle": "2024-05-04T03:37:18.704904Z",
     "shell.execute_reply": "2024-05-04T03:37:18.703793Z"
    },
    "id": "6lgzf5RIn-m-",
    "outputId": "6ebd621c-9c91-4a5d-ec3b-3989e7badaf9",
    "papermill": {
     "duration": 0.385086,
     "end_time": "2024-05-04T03:37:18.707363",
     "exception": false,
     "start_time": "2024-05-04T03:37:18.322277",
     "status": "completed"
    },
    "tags": []
   },
   "outputs": [
    {
     "data": {
      "image/png": "[encoded data removed]",
      "text/plain": [
       "<Figure size 640x480 with 1 Axes>"
      ]
     },
     "metadata": {},
     "output_type": "display_data"
    }
   ],
   "source": [
    "acc = hist.history['accuracy']\n",
    "val_acc = hist.history['val_accuracy']\n",
    "epochs = range(1, len(acc) + 1)\n",
    "\n",
    "plt.plot(epochs, acc, '-', label='Training Accuracy')\n",
    "plt.plot(epochs, val_acc, ':', label='Validation Accuracy')\n",
    "plt.title('Training and Validation Accuracy')\n",
    "plt.xlabel('Epoch')\n",
    "plt.ylabel('Accuracy')\n",
    "plt.legend(loc='lower right')\n",
    "plt.plot()\n",
    "plt.show()"
   ]
  },
  {
   "cell_type": "code",
   "execution_count": 12,
   "id": "0713868e",
   "metadata": {
    "execution": {
     "iopub.execute_input": "2024-05-04T03:37:18.798591Z",
     "iopub.status.busy": "2024-05-04T03:37:18.797473Z",
     "iopub.status.idle": "2024-05-04T03:37:19.406818Z",
     "shell.execute_reply": "2024-05-04T03:37:19.405412Z"
    },
    "papermill": {
     "duration": 0.657787,
     "end_time": "2024-05-04T03:37:19.409474",
     "exception": false,
     "start_time": "2024-05-04T03:37:18.751687",
     "status": "completed"
    },
    "tags": []
   },
   "outputs": [
    {
     "name": "stdout",
     "output_type": "stream",
     "text": [
      "1/1 [==============================] - 0s 228ms/step\n",
      "1/1 [==============================] - 0s 21ms/step\n",
      "1/1 [==============================] - 0s 23ms/step\n",
      "1/1 [==============================] - 0s 23ms/step\n",
      "1/1 [==============================] - 0s 24ms/step\n",
      "\n",
      "\n",
      "Original:belly_pain Predicted: tired\n",
      "\n",
      "\n",
      "Original:burping Predicted: burping\n",
      "\n",
      "\n",
      "Original:discomfort Predicted: burping\n",
      "\n",
      "\n",
      "Original:hungry Predicted: belly pain\n",
      "\n",
      "\n",
      "Original:tired Predicted: discomfort\n",
      "\n",
      "\n"
     ]
    }
   ],
   "source": [
    "import glob\n",
    "import os\n",
    "\n",
    "def get_png_files(directory):\n",
    "    folders = ['belly_pain', 'burping', 'discomfort', 'hungry', 'tired'] \n",
    "    png_files = []\n",
    "\n",
    "    for folder_name in folders:\n",
    "        folder_path = os.path.join(directory, folder_name)\n",
    "        if os.path.exists(folder_path):\n",
    "            png_files.extend(glob.glob(os.path.join(folder_path, '*.png')))\n",
    "        else:\n",
    "            print(f\"Folder '{folder_name}' does not exist in '{directory}'.\")\n",
    "\n",
    "    return png_files\n",
    "\n",
    "directory_path = '/kaggle/working/' \n",
    "png_files_list = get_png_files(directory_path)\n",
    "\n",
    "results = []\n",
    "for file_path in png_files_list:\n",
    "    x = image.load_img(file_path, target_size=(224, 224))\n",
    "\n",
    "    x = image.img_to_array(x)\n",
    "    x = np.expand_dims(x, axis=0)\n",
    "\n",
    "    y = model.predict(x)\n",
    "\n",
    "    class_labels = ['belly pain','burping','discomfort','hungry','tired']\n",
    "\n",
    "    # for i, label in enumerate(class_labels):\n",
    "    #     print(f'{label}: {y[0][i]}')\n",
    "\n",
    "    results.append(f\"Original:{file_path.split('/')[3]} Predicted: {class_labels[np.argmax(y)]}\")\n",
    "    \n",
    "print('\\n')\n",
    "\n",
    "for i in results:\n",
    "    print(i)\n",
    "    print('\\n')"
   ]
  }
 ],
 "metadata": {
  "accelerator": "GPU",
  "colab": {
   "collapsed_sections": [
    "99FRzLHUzvjR",
    "Yd64T_vhz0qK",
    "ZbKrHG-CqOsv"
   ],
   "gpuType": "T4",
   "provenance": []
  },
  "kaggle": {
   "accelerator": "nvidiaTeslaT4",
   "dataSources": [
    {
     "datasetId": 4195468,
     "sourceId": 7243196,
     "sourceType": "datasetVersion"
    }
   ],
   "dockerImageVersionId": 30627,
   "isGpuEnabled": true,
   "isInternetEnabled": true,
   "language": "python",
   "sourceType": "notebook"
  },
  "kernelspec": {
   "display_name": "Python 3",
   "language": "python",
   "name": "python3"
  },
  "language_info": {
   "codemirror_mode": {
    "name": "ipython",
    "version": 3
   },
   "file_extension": ".py",
   "mimetype": "text/x-python",
   "name": "python",
   "nbconvert_exporter": "python",
   "pygments_lexer": "ipython3",
   "version": "3.10.12"
  },
  "papermill": {
   "default_parameters": {},
   "duration": 233.765903,
   "end_time": "2024-05-04T03:37:23.249073",
   "environment_variables": {},
   "exception": null,
   "input_path": "__notebook__.ipynb",
   "output_path": "__notebook__.ipynb",
   "parameters": {},
   "start_time": "2024-05-04T03:33:29.483170",
   "version": "2.4.0"
  }
 },
 "nbformat": 4,
 "nbformat_minor": 5
}
